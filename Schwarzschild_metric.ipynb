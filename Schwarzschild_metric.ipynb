{
 "cells": [
  {
   "cell_type": "code",
   "execution_count": 1,
   "id": "bc07e736",
   "metadata": {},
   "outputs": [],
   "source": [
    "# Load differential geometry tools\n",
    "from sage.manifolds.operators import *"
   ]
  },
  {
   "cell_type": "code",
   "execution_count": 2,
   "id": "ce7b0013",
   "metadata": {},
   "outputs": [],
   "source": [
    "# Define 4D spacetime manifold\n",
    "M = Manifold(4, 'M', structure='Lorentzian')"
   ]
  },
  {
   "cell_type": "code",
   "execution_count": 3,
   "id": "cd87b165",
   "metadata": {},
   "outputs": [],
   "source": [
    "# Schwarzschild coordinates (t, r, θ, ϕ)\n",
    "X.<t,r,theta,phi> = M.chart(r't r:(0,+oo) theta:(0,pi) phi:(0,2*pi)')"
   ]
  },
  {
   "cell_type": "code",
   "execution_count": 5,
   "id": "d9432b76",
   "metadata": {},
   "outputs": [],
   "source": [
    "# Black hole mass parameter\n",
    "m = var('m', domain='real')"
   ]
  },
  {
   "cell_type": "code",
   "execution_count": 6,
   "id": "3aacc77d",
   "metadata": {},
   "outputs": [],
   "source": [
    "# Schwarzschild metric components\n",
    "g = M.lorentzian_metric('g')\n",
    "g[0,0] = -(1 - 2*m/r)  # g_tt\n",
    "g[1,1] = 1/(1 - 2*m/r) # g_rr\n",
    "g[2,2] = r^2           # g_θθ\n",
    "g[3,3] = (r*sin(theta))^2 # g_ϕϕ"
   ]
  },
  {
   "cell_type": "code",
   "execution_count": 7,
   "id": "5c625a4d",
   "metadata": {},
   "outputs": [
    {
     "name": "stdout",
     "output_type": "stream",
     "text": [
      "[       2*m/r - 1                0                0                0]\n",
      "[               0   -1/(2*m/r - 1)                0                0]\n",
      "[               0                0              r^2                0]\n",
      "[               0                0                0 r^2*sin(theta)^2]\n"
     ]
    }
   ],
   "source": [
    "print(g[:])"
   ]
  },
  {
   "cell_type": "code",
   "execution_count": 8,
   "id": "39fe9d80",
   "metadata": {},
   "outputs": [],
   "source": [
    "# ===== Curvature Tensors ====="
   ]
  },
  {
   "cell_type": "code",
   "execution_count": 9,
   "id": "7b9c7b60",
   "metadata": {},
   "outputs": [
    {
     "name": "stdout",
     "output_type": "stream",
     "text": [
      "\n",
      "Christoffel symbols:\n"
     ]
    },
    {
     "data": {
      "text/html": [
       "<html><script type=\"math/tex; mode=display\">\\newcommand{\\Bold}[1]{\\mathbf{#1}}\\begin{array}{lcl} \\Gamma_{ \\phantom{\\, t} \\, t \\, r }^{ \\, t \\phantom{\\, t} \\phantom{\\, r} } & = & -\\frac{m}{2 \\, m r - r^{2}} \\\\ \\Gamma_{ \\phantom{\\, r} \\, t \\, t }^{ \\, r \\phantom{\\, t} \\phantom{\\, t} } & = & -\\frac{2 \\, m^{2} - m r}{r^{3}} \\\\ \\Gamma_{ \\phantom{\\, r} \\, r \\, r }^{ \\, r \\phantom{\\, r} \\phantom{\\, r} } & = & \\frac{m}{2 \\, m r - r^{2}} \\\\ \\Gamma_{ \\phantom{\\, r} \\, \\theta \\, \\theta }^{ \\, r \\phantom{\\, \\theta} \\phantom{\\, \\theta} } & = & 2 \\, m - r \\\\ \\Gamma_{ \\phantom{\\, r} \\, \\phi \\, \\phi }^{ \\, r \\phantom{\\, \\phi} \\phantom{\\, \\phi} } & = & {\\left(2 \\, m - r\\right)} \\sin\\left(\\theta\\right)^{2} \\\\ \\Gamma_{ \\phantom{\\, \\theta} \\, r \\, \\theta }^{ \\, \\theta \\phantom{\\, r} \\phantom{\\, \\theta} } & = & \\frac{1}{r} \\\\ \\Gamma_{ \\phantom{\\, \\theta} \\, \\phi \\, \\phi }^{ \\, \\theta \\phantom{\\, \\phi} \\phantom{\\, \\phi} } & = & -\\cos\\left(\\theta\\right) \\sin\\left(\\theta\\right) \\\\ \\Gamma_{ \\phantom{\\, \\phi} \\, r \\, \\phi }^{ \\, \\phi \\phantom{\\, r} \\phantom{\\, \\phi} } & = & \\frac{1}{r} \\\\ \\Gamma_{ \\phantom{\\, \\phi} \\, \\theta \\, \\phi }^{ \\, \\phi \\phantom{\\, \\theta} \\phantom{\\, \\phi} } & = & \\frac{\\cos\\left(\\theta\\right)}{\\sin\\left(\\theta\\right)} \\end{array}</script></html>"
      ],
      "text/latex": [
       "$$\\newcommand{\\Bold}[1]{\\mathbf{#1}}\\begin{array}{lcl} \\Gamma_{ \\phantom{\\, t} \\, t \\, r }^{ \\, t \\phantom{\\, t} \\phantom{\\, r} } & = & -\\frac{m}{2 \\, m r - r^{2}} \\\\ \\Gamma_{ \\phantom{\\, r} \\, t \\, t }^{ \\, r \\phantom{\\, t} \\phantom{\\, t} } & = & -\\frac{2 \\, m^{2} - m r}{r^{3}} \\\\ \\Gamma_{ \\phantom{\\, r} \\, r \\, r }^{ \\, r \\phantom{\\, r} \\phantom{\\, r} } & = & \\frac{m}{2 \\, m r - r^{2}} \\\\ \\Gamma_{ \\phantom{\\, r} \\, \\theta \\, \\theta }^{ \\, r \\phantom{\\, \\theta} \\phantom{\\, \\theta} } & = & 2 \\, m - r \\\\ \\Gamma_{ \\phantom{\\, r} \\, \\phi \\, \\phi }^{ \\, r \\phantom{\\, \\phi} \\phantom{\\, \\phi} } & = & {\\left(2 \\, m - r\\right)} \\sin\\left(\\theta\\right)^{2} \\\\ \\Gamma_{ \\phantom{\\, \\theta} \\, r \\, \\theta }^{ \\, \\theta \\phantom{\\, r} \\phantom{\\, \\theta} } & = & \\frac{1}{r} \\\\ \\Gamma_{ \\phantom{\\, \\theta} \\, \\phi \\, \\phi }^{ \\, \\theta \\phantom{\\, \\phi} \\phantom{\\, \\phi} } & = & -\\cos\\left(\\theta\\right) \\sin\\left(\\theta\\right) \\\\ \\Gamma_{ \\phantom{\\, \\phi} \\, r \\, \\phi }^{ \\, \\phi \\phantom{\\, r} \\phantom{\\, \\phi} } & = & \\frac{1}{r} \\\\ \\Gamma_{ \\phantom{\\, \\phi} \\, \\theta \\, \\phi }^{ \\, \\phi \\phantom{\\, \\theta} \\phantom{\\, \\phi} } & = & \\frac{\\cos\\left(\\theta\\right)}{\\sin\\left(\\theta\\right)} \\end{array}$$"
      ],
      "text/plain": [
       "Gam^t_t,r = -m/(2*m*r - r^2) \n",
       "Gam^r_t,t = -(2*m^2 - m*r)/r^3 \n",
       "Gam^r_r,r = m/(2*m*r - r^2) \n",
       "Gam^r_theta,theta = 2*m - r \n",
       "Gam^r_phi,phi = (2*m - r)*sin(theta)^2 \n",
       "Gam^theta_r,theta = 1/r \n",
       "Gam^theta_phi,phi = -cos(theta)*sin(theta) \n",
       "Gam^phi_r,phi = 1/r \n",
       "Gam^phi_theta,phi = cos(theta)/sin(theta) "
      ]
     },
     "metadata": {},
     "output_type": "display_data"
    }
   ],
   "source": [
    "# Christoffel symbols (connection coefficients)\n",
    "print(\"\\nChristoffel symbols:\")\n",
    "show(g.christoffel_symbols_display())"
   ]
  },
  {
   "cell_type": "code",
   "execution_count": 10,
   "id": "401ccb95",
   "metadata": {},
   "outputs": [
    {
     "name": "stdout",
     "output_type": "stream",
     "text": [
      "\n",
      "Riemann tensor (non-zero components):\n"
     ]
    },
    {
     "data": {
      "text/html": [
       "<html><script type=\"math/tex; mode=display\">\\newcommand{\\Bold}[1]{\\mathbf{#1}}\\begin{array}{lcl} \\mathrm{Riem}\\left(g\\right)_{ \\phantom{\\, t} \\, r \\, t \\, r }^{ \\, t \\phantom{\\, r} \\phantom{\\, t} \\phantom{\\, r} } & = & -\\frac{2 \\, m}{2 \\, m r^{2} - r^{3}} \\\\ \\mathrm{Riem}\\left(g\\right)_{ \\phantom{\\, t} \\, r \\, r \\, t }^{ \\, t \\phantom{\\, r} \\phantom{\\, r} \\phantom{\\, t} } & = & \\frac{2 \\, m}{2 \\, m r^{2} - r^{3}} \\\\ \\mathrm{Riem}\\left(g\\right)_{ \\phantom{\\, t} \\, \\theta \\, t \\, \\theta }^{ \\, t \\phantom{\\, \\theta} \\phantom{\\, t} \\phantom{\\, \\theta} } & = & -\\frac{m}{r} \\\\ \\mathrm{Riem}\\left(g\\right)_{ \\phantom{\\, t} \\, \\theta \\, \\theta \\, t }^{ \\, t \\phantom{\\, \\theta} \\phantom{\\, \\theta} \\phantom{\\, t} } & = & \\frac{m}{r} \\\\ \\mathrm{Riem}\\left(g\\right)_{ \\phantom{\\, t} \\, \\phi \\, t \\, \\phi }^{ \\, t \\phantom{\\, \\phi} \\phantom{\\, t} \\phantom{\\, \\phi} } & = & -\\frac{m \\sin\\left(\\theta\\right)^{2}}{r} \\\\ \\mathrm{Riem}\\left(g\\right)_{ \\phantom{\\, t} \\, \\phi \\, \\phi \\, t }^{ \\, t \\phantom{\\, \\phi} \\phantom{\\, \\phi} \\phantom{\\, t} } & = & \\frac{m \\sin\\left(\\theta\\right)^{2}}{r} \\\\ \\mathrm{Riem}\\left(g\\right)_{ \\phantom{\\, r} \\, t \\, t \\, r }^{ \\, r \\phantom{\\, t} \\phantom{\\, t} \\phantom{\\, r} } & = & -\\frac{2 \\, {\\left(2 \\, m^{2} - m r\\right)}}{r^{4}} \\\\ \\mathrm{Riem}\\left(g\\right)_{ \\phantom{\\, r} \\, t \\, r \\, t }^{ \\, r \\phantom{\\, t} \\phantom{\\, r} \\phantom{\\, t} } & = & \\frac{2 \\, {\\left(2 \\, m^{2} - m r\\right)}}{r^{4}} \\\\ \\mathrm{Riem}\\left(g\\right)_{ \\phantom{\\, r} \\, \\theta \\, r \\, \\theta }^{ \\, r \\phantom{\\, \\theta} \\phantom{\\, r} \\phantom{\\, \\theta} } & = & -\\frac{m}{r} \\\\ \\mathrm{Riem}\\left(g\\right)_{ \\phantom{\\, r} \\, \\theta \\, \\theta \\, r }^{ \\, r \\phantom{\\, \\theta} \\phantom{\\, \\theta} \\phantom{\\, r} } & = & \\frac{m}{r} \\\\ \\mathrm{Riem}\\left(g\\right)_{ \\phantom{\\, r} \\, \\phi \\, r \\, \\phi }^{ \\, r \\phantom{\\, \\phi} \\phantom{\\, r} \\phantom{\\, \\phi} } & = & -\\frac{m \\sin\\left(\\theta\\right)^{2}}{r} \\\\ \\mathrm{Riem}\\left(g\\right)_{ \\phantom{\\, r} \\, \\phi \\, \\phi \\, r }^{ \\, r \\phantom{\\, \\phi} \\phantom{\\, \\phi} \\phantom{\\, r} } & = & \\frac{m \\sin\\left(\\theta\\right)^{2}}{r} \\\\ \\mathrm{Riem}\\left(g\\right)_{ \\phantom{\\, \\theta} \\, t \\, t \\, \\theta }^{ \\, \\theta \\phantom{\\, t} \\phantom{\\, t} \\phantom{\\, \\theta} } & = & \\frac{2 \\, m^{2} - m r}{r^{4}} \\\\ \\mathrm{Riem}\\left(g\\right)_{ \\phantom{\\, \\theta} \\, t \\, \\theta \\, t }^{ \\, \\theta \\phantom{\\, t} \\phantom{\\, \\theta} \\phantom{\\, t} } & = & -\\frac{2 \\, m^{2} - m r}{r^{4}} \\\\ \\mathrm{Riem}\\left(g\\right)_{ \\phantom{\\, \\theta} \\, r \\, r \\, \\theta }^{ \\, \\theta \\phantom{\\, r} \\phantom{\\, r} \\phantom{\\, \\theta} } & = & -\\frac{m}{2 \\, m r^{2} - r^{3}} \\\\ \\mathrm{Riem}\\left(g\\right)_{ \\phantom{\\, \\theta} \\, r \\, \\theta \\, r }^{ \\, \\theta \\phantom{\\, r} \\phantom{\\, \\theta} \\phantom{\\, r} } & = & \\frac{m}{2 \\, m r^{2} - r^{3}} \\\\ \\mathrm{Riem}\\left(g\\right)_{ \\phantom{\\, \\theta} \\, \\phi \\, \\theta \\, \\phi }^{ \\, \\theta \\phantom{\\, \\phi} \\phantom{\\, \\theta} \\phantom{\\, \\phi} } & = & \\frac{2 \\, m \\sin\\left(\\theta\\right)^{2}}{r} \\\\ \\mathrm{Riem}\\left(g\\right)_{ \\phantom{\\, \\theta} \\, \\phi \\, \\phi \\, \\theta }^{ \\, \\theta \\phantom{\\, \\phi} \\phantom{\\, \\phi} \\phantom{\\, \\theta} } & = & -\\frac{2 \\, m \\sin\\left(\\theta\\right)^{2}}{r} \\\\ \\mathrm{Riem}\\left(g\\right)_{ \\phantom{\\, \\phi} \\, t \\, t \\, \\phi }^{ \\, \\phi \\phantom{\\, t} \\phantom{\\, t} \\phantom{\\, \\phi} } & = & \\frac{2 \\, m^{2} - m r}{r^{4}} \\\\ \\mathrm{Riem}\\left(g\\right)_{ \\phantom{\\, \\phi} \\, t \\, \\phi \\, t }^{ \\, \\phi \\phantom{\\, t} \\phantom{\\, \\phi} \\phantom{\\, t} } & = & -\\frac{2 \\, m^{2} - m r}{r^{4}} \\\\ \\mathrm{Riem}\\left(g\\right)_{ \\phantom{\\, \\phi} \\, r \\, r \\, \\phi }^{ \\, \\phi \\phantom{\\, r} \\phantom{\\, r} \\phantom{\\, \\phi} } & = & -\\frac{m}{2 \\, m r^{2} - r^{3}} \\\\ \\mathrm{Riem}\\left(g\\right)_{ \\phantom{\\, \\phi} \\, r \\, \\phi \\, r }^{ \\, \\phi \\phantom{\\, r} \\phantom{\\, \\phi} \\phantom{\\, r} } & = & \\frac{m}{2 \\, m r^{2} - r^{3}} \\\\ \\mathrm{Riem}\\left(g\\right)_{ \\phantom{\\, \\phi} \\, \\theta \\, \\theta \\, \\phi }^{ \\, \\phi \\phantom{\\, \\theta} \\phantom{\\, \\theta} \\phantom{\\, \\phi} } & = & -\\frac{2 \\, m}{r} \\\\ \\mathrm{Riem}\\left(g\\right)_{ \\phantom{\\, \\phi} \\, \\theta \\, \\phi \\, \\theta }^{ \\, \\phi \\phantom{\\, \\theta} \\phantom{\\, \\phi} \\phantom{\\, \\theta} } & = & \\frac{2 \\, m}{r} \\end{array}</script></html>"
      ],
      "text/latex": [
       "$$\\newcommand{\\Bold}[1]{\\mathbf{#1}}\\begin{array}{lcl} \\mathrm{Riem}\\left(g\\right)_{ \\phantom{\\, t} \\, r \\, t \\, r }^{ \\, t \\phantom{\\, r} \\phantom{\\, t} \\phantom{\\, r} } & = & -\\frac{2 \\, m}{2 \\, m r^{2} - r^{3}} \\\\ \\mathrm{Riem}\\left(g\\right)_{ \\phantom{\\, t} \\, r \\, r \\, t }^{ \\, t \\phantom{\\, r} \\phantom{\\, r} \\phantom{\\, t} } & = & \\frac{2 \\, m}{2 \\, m r^{2} - r^{3}} \\\\ \\mathrm{Riem}\\left(g\\right)_{ \\phantom{\\, t} \\, \\theta \\, t \\, \\theta }^{ \\, t \\phantom{\\, \\theta} \\phantom{\\, t} \\phantom{\\, \\theta} } & = & -\\frac{m}{r} \\\\ \\mathrm{Riem}\\left(g\\right)_{ \\phantom{\\, t} \\, \\theta \\, \\theta \\, t }^{ \\, t \\phantom{\\, \\theta} \\phantom{\\, \\theta} \\phantom{\\, t} } & = & \\frac{m}{r} \\\\ \\mathrm{Riem}\\left(g\\right)_{ \\phantom{\\, t} \\, \\phi \\, t \\, \\phi }^{ \\, t \\phantom{\\, \\phi} \\phantom{\\, t} \\phantom{\\, \\phi} } & = & -\\frac{m \\sin\\left(\\theta\\right)^{2}}{r} \\\\ \\mathrm{Riem}\\left(g\\right)_{ \\phantom{\\, t} \\, \\phi \\, \\phi \\, t }^{ \\, t \\phantom{\\, \\phi} \\phantom{\\, \\phi} \\phantom{\\, t} } & = & \\frac{m \\sin\\left(\\theta\\right)^{2}}{r} \\\\ \\mathrm{Riem}\\left(g\\right)_{ \\phantom{\\, r} \\, t \\, t \\, r }^{ \\, r \\phantom{\\, t} \\phantom{\\, t} \\phantom{\\, r} } & = & -\\frac{2 \\, {\\left(2 \\, m^{2} - m r\\right)}}{r^{4}} \\\\ \\mathrm{Riem}\\left(g\\right)_{ \\phantom{\\, r} \\, t \\, r \\, t }^{ \\, r \\phantom{\\, t} \\phantom{\\, r} \\phantom{\\, t} } & = & \\frac{2 \\, {\\left(2 \\, m^{2} - m r\\right)}}{r^{4}} \\\\ \\mathrm{Riem}\\left(g\\right)_{ \\phantom{\\, r} \\, \\theta \\, r \\, \\theta }^{ \\, r \\phantom{\\, \\theta} \\phantom{\\, r} \\phantom{\\, \\theta} } & = & -\\frac{m}{r} \\\\ \\mathrm{Riem}\\left(g\\right)_{ \\phantom{\\, r} \\, \\theta \\, \\theta \\, r }^{ \\, r \\phantom{\\, \\theta} \\phantom{\\, \\theta} \\phantom{\\, r} } & = & \\frac{m}{r} \\\\ \\mathrm{Riem}\\left(g\\right)_{ \\phantom{\\, r} \\, \\phi \\, r \\, \\phi }^{ \\, r \\phantom{\\, \\phi} \\phantom{\\, r} \\phantom{\\, \\phi} } & = & -\\frac{m \\sin\\left(\\theta\\right)^{2}}{r} \\\\ \\mathrm{Riem}\\left(g\\right)_{ \\phantom{\\, r} \\, \\phi \\, \\phi \\, r }^{ \\, r \\phantom{\\, \\phi} \\phantom{\\, \\phi} \\phantom{\\, r} } & = & \\frac{m \\sin\\left(\\theta\\right)^{2}}{r} \\\\ \\mathrm{Riem}\\left(g\\right)_{ \\phantom{\\, \\theta} \\, t \\, t \\, \\theta }^{ \\, \\theta \\phantom{\\, t} \\phantom{\\, t} \\phantom{\\, \\theta} } & = & \\frac{2 \\, m^{2} - m r}{r^{4}} \\\\ \\mathrm{Riem}\\left(g\\right)_{ \\phantom{\\, \\theta} \\, t \\, \\theta \\, t }^{ \\, \\theta \\phantom{\\, t} \\phantom{\\, \\theta} \\phantom{\\, t} } & = & -\\frac{2 \\, m^{2} - m r}{r^{4}} \\\\ \\mathrm{Riem}\\left(g\\right)_{ \\phantom{\\, \\theta} \\, r \\, r \\, \\theta }^{ \\, \\theta \\phantom{\\, r} \\phantom{\\, r} \\phantom{\\, \\theta} } & = & -\\frac{m}{2 \\, m r^{2} - r^{3}} \\\\ \\mathrm{Riem}\\left(g\\right)_{ \\phantom{\\, \\theta} \\, r \\, \\theta \\, r }^{ \\, \\theta \\phantom{\\, r} \\phantom{\\, \\theta} \\phantom{\\, r} } & = & \\frac{m}{2 \\, m r^{2} - r^{3}} \\\\ \\mathrm{Riem}\\left(g\\right)_{ \\phantom{\\, \\theta} \\, \\phi \\, \\theta \\, \\phi }^{ \\, \\theta \\phantom{\\, \\phi} \\phantom{\\, \\theta} \\phantom{\\, \\phi} } & = & \\frac{2 \\, m \\sin\\left(\\theta\\right)^{2}}{r} \\\\ \\mathrm{Riem}\\left(g\\right)_{ \\phantom{\\, \\theta} \\, \\phi \\, \\phi \\, \\theta }^{ \\, \\theta \\phantom{\\, \\phi} \\phantom{\\, \\phi} \\phantom{\\, \\theta} } & = & -\\frac{2 \\, m \\sin\\left(\\theta\\right)^{2}}{r} \\\\ \\mathrm{Riem}\\left(g\\right)_{ \\phantom{\\, \\phi} \\, t \\, t \\, \\phi }^{ \\, \\phi \\phantom{\\, t} \\phantom{\\, t} \\phantom{\\, \\phi} } & = & \\frac{2 \\, m^{2} - m r}{r^{4}} \\\\ \\mathrm{Riem}\\left(g\\right)_{ \\phantom{\\, \\phi} \\, t \\, \\phi \\, t }^{ \\, \\phi \\phantom{\\, t} \\phantom{\\, \\phi} \\phantom{\\, t} } & = & -\\frac{2 \\, m^{2} - m r}{r^{4}} \\\\ \\mathrm{Riem}\\left(g\\right)_{ \\phantom{\\, \\phi} \\, r \\, r \\, \\phi }^{ \\, \\phi \\phantom{\\, r} \\phantom{\\, r} \\phantom{\\, \\phi} } & = & -\\frac{m}{2 \\, m r^{2} - r^{3}} \\\\ \\mathrm{Riem}\\left(g\\right)_{ \\phantom{\\, \\phi} \\, r \\, \\phi \\, r }^{ \\, \\phi \\phantom{\\, r} \\phantom{\\, \\phi} \\phantom{\\, r} } & = & \\frac{m}{2 \\, m r^{2} - r^{3}} \\\\ \\mathrm{Riem}\\left(g\\right)_{ \\phantom{\\, \\phi} \\, \\theta \\, \\theta \\, \\phi }^{ \\, \\phi \\phantom{\\, \\theta} \\phantom{\\, \\theta} \\phantom{\\, \\phi} } & = & -\\frac{2 \\, m}{r} \\\\ \\mathrm{Riem}\\left(g\\right)_{ \\phantom{\\, \\phi} \\, \\theta \\, \\phi \\, \\theta }^{ \\, \\phi \\phantom{\\, \\theta} \\phantom{\\, \\phi} \\phantom{\\, \\theta} } & = & \\frac{2 \\, m}{r} \\end{array}$$"
      ],
      "text/plain": [
       "Riem(g)^t_r,t,r = -2*m/(2*m*r^2 - r^3) \n",
       "Riem(g)^t_r,r,t = 2*m/(2*m*r^2 - r^3) \n",
       "Riem(g)^t_theta,t,theta = -m/r \n",
       "Riem(g)^t_theta,theta,t = m/r \n",
       "Riem(g)^t_phi,t,phi = -m*sin(theta)^2/r \n",
       "Riem(g)^t_phi,phi,t = m*sin(theta)^2/r \n",
       "Riem(g)^r_t,t,r = -2*(2*m^2 - m*r)/r^4 \n",
       "Riem(g)^r_t,r,t = 2*(2*m^2 - m*r)/r^4 \n",
       "Riem(g)^r_theta,r,theta = -m/r \n",
       "Riem(g)^r_theta,theta,r = m/r \n",
       "Riem(g)^r_phi,r,phi = -m*sin(theta)^2/r \n",
       "Riem(g)^r_phi,phi,r = m*sin(theta)^2/r \n",
       "Riem(g)^theta_t,t,theta = (2*m^2 - m*r)/r^4 \n",
       "Riem(g)^theta_t,theta,t = -(2*m^2 - m*r)/r^4 \n",
       "Riem(g)^theta_r,r,theta = -m/(2*m*r^2 - r^3) \n",
       "Riem(g)^theta_r,theta,r = m/(2*m*r^2 - r^3) \n",
       "Riem(g)^theta_phi,theta,phi = 2*m*sin(theta)^2/r \n",
       "Riem(g)^theta_phi,phi,theta = -2*m*sin(theta)^2/r \n",
       "Riem(g)^phi_t,t,phi = (2*m^2 - m*r)/r^4 \n",
       "Riem(g)^phi_t,phi,t = -(2*m^2 - m*r)/r^4 \n",
       "Riem(g)^phi_r,r,phi = -m/(2*m*r^2 - r^3) \n",
       "Riem(g)^phi_r,phi,r = m/(2*m*r^2 - r^3) \n",
       "Riem(g)^phi_theta,theta,phi = -2*m/r \n",
       "Riem(g)^phi_theta,phi,theta = 2*m/r "
      ]
     },
     "metadata": {},
     "output_type": "display_data"
    }
   ],
   "source": [
    "# Riemann curvature tensor\n",
    "print(\"\\nRiemann tensor (non-zero components):\")\n",
    "R = g.riemann()\n",
    "show(R.display_comp(only_nonzero=True))"
   ]
  },
  {
   "cell_type": "code",
   "execution_count": 11,
   "id": "0a454ce1",
   "metadata": {},
   "outputs": [
    {
     "name": "stdout",
     "output_type": "stream",
     "text": [
      "\n",
      "Ricci tensor (should be zero):\n"
     ]
    },
    {
     "data": {
      "text/html": [
       "<html><script type=\"math/tex; mode=display\">\\newcommand{\\Bold}[1]{\\mathbf{#1}}\\mathrm{Ric}\\left(g\\right) = 0</script></html>"
      ],
      "text/latex": [
       "$$\\newcommand{\\Bold}[1]{\\mathbf{#1}}\\mathrm{Ric}\\left(g\\right) = 0$$"
      ],
      "text/plain": [
       "Ric(g) = 0"
      ]
     },
     "metadata": {},
     "output_type": "display_data"
    }
   ],
   "source": [
    "# Ricci tensor (should vanish for vacuum solution)\n",
    "print(\"\\nRicci tensor (should be zero):\")\n",
    "Ric = g.ricci()\n",
    "show(Ric.display())"
   ]
  },
  {
   "cell_type": "code",
   "execution_count": 12,
   "id": "c7606eef",
   "metadata": {},
   "outputs": [
    {
     "name": "stdout",
     "output_type": "stream",
     "text": [
      "\n",
      "Ricci scalar:\n"
     ]
    },
    {
     "data": {
      "text/html": [
       "<html><script type=\"math/tex; mode=display\">\\newcommand{\\Bold}[1]{\\mathbf{#1}}0</script></html>"
      ],
      "text/latex": [
       "$$\\newcommand{\\Bold}[1]{\\mathbf{#1}}0$$"
      ],
      "text/plain": [
       "0"
      ]
     },
     "metadata": {},
     "output_type": "display_data"
    }
   ],
   "source": [
    "# Ricci scalar (should vanish)\n",
    "print(\"\\nRicci scalar:\")\n",
    "R_scalar = g.ricci_scalar()\n",
    "show(R_scalar.expr())"
   ]
  },
  {
   "cell_type": "code",
   "execution_count": 13,
   "id": "9a90f2bf",
   "metadata": {},
   "outputs": [
    {
     "name": "stdout",
     "output_type": "stream",
     "text": [
      "\n",
      "Weyl tensor (non-zero components):\n"
     ]
    },
    {
     "data": {
      "text/html": [
       "<html><script type=\"math/tex; mode=display\">\\newcommand{\\Bold}[1]{\\mathbf{#1}}\\begin{array}{lcl} \\mathrm{C}\\left(g\\right)_{ \\phantom{\\, t} \\, r \\, t \\, r }^{ \\, t \\phantom{\\, r} \\phantom{\\, t} \\phantom{\\, r} } & = & -\\frac{2 \\, m}{2 \\, m r^{2} - r^{3}} \\\\ \\mathrm{C}\\left(g\\right)_{ \\phantom{\\, t} \\, r \\, r \\, t }^{ \\, t \\phantom{\\, r} \\phantom{\\, r} \\phantom{\\, t} } & = & \\frac{2 \\, m}{2 \\, m r^{2} - r^{3}} \\\\ \\mathrm{C}\\left(g\\right)_{ \\phantom{\\, t} \\, \\theta \\, t \\, \\theta }^{ \\, t \\phantom{\\, \\theta} \\phantom{\\, t} \\phantom{\\, \\theta} } & = & -\\frac{m}{r} \\\\ \\mathrm{C}\\left(g\\right)_{ \\phantom{\\, t} \\, \\theta \\, \\theta \\, t }^{ \\, t \\phantom{\\, \\theta} \\phantom{\\, \\theta} \\phantom{\\, t} } & = & \\frac{m}{r} \\\\ \\mathrm{C}\\left(g\\right)_{ \\phantom{\\, t} \\, \\phi \\, t \\, \\phi }^{ \\, t \\phantom{\\, \\phi} \\phantom{\\, t} \\phantom{\\, \\phi} } & = & -\\frac{m \\sin\\left(\\theta\\right)^{2}}{r} \\\\ \\mathrm{C}\\left(g\\right)_{ \\phantom{\\, t} \\, \\phi \\, \\phi \\, t }^{ \\, t \\phantom{\\, \\phi} \\phantom{\\, \\phi} \\phantom{\\, t} } & = & \\frac{m \\sin\\left(\\theta\\right)^{2}}{r} \\\\ \\mathrm{C}\\left(g\\right)_{ \\phantom{\\, r} \\, t \\, t \\, r }^{ \\, r \\phantom{\\, t} \\phantom{\\, t} \\phantom{\\, r} } & = & -\\frac{2 \\, {\\left(2 \\, m^{2} - m r\\right)}}{r^{4}} \\\\ \\mathrm{C}\\left(g\\right)_{ \\phantom{\\, r} \\, t \\, r \\, t }^{ \\, r \\phantom{\\, t} \\phantom{\\, r} \\phantom{\\, t} } & = & \\frac{2 \\, {\\left(2 \\, m^{2} - m r\\right)}}{r^{4}} \\\\ \\mathrm{C}\\left(g\\right)_{ \\phantom{\\, r} \\, \\theta \\, r \\, \\theta }^{ \\, r \\phantom{\\, \\theta} \\phantom{\\, r} \\phantom{\\, \\theta} } & = & -\\frac{m}{r} \\\\ \\mathrm{C}\\left(g\\right)_{ \\phantom{\\, r} \\, \\theta \\, \\theta \\, r }^{ \\, r \\phantom{\\, \\theta} \\phantom{\\, \\theta} \\phantom{\\, r} } & = & \\frac{m}{r} \\\\ \\mathrm{C}\\left(g\\right)_{ \\phantom{\\, r} \\, \\phi \\, r \\, \\phi }^{ \\, r \\phantom{\\, \\phi} \\phantom{\\, r} \\phantom{\\, \\phi} } & = & -\\frac{m \\sin\\left(\\theta\\right)^{2}}{r} \\\\ \\mathrm{C}\\left(g\\right)_{ \\phantom{\\, r} \\, \\phi \\, \\phi \\, r }^{ \\, r \\phantom{\\, \\phi} \\phantom{\\, \\phi} \\phantom{\\, r} } & = & \\frac{m \\sin\\left(\\theta\\right)^{2}}{r} \\\\ \\mathrm{C}\\left(g\\right)_{ \\phantom{\\, \\theta} \\, t \\, t \\, \\theta }^{ \\, \\theta \\phantom{\\, t} \\phantom{\\, t} \\phantom{\\, \\theta} } & = & \\frac{2 \\, m^{2} - m r}{r^{4}} \\\\ \\mathrm{C}\\left(g\\right)_{ \\phantom{\\, \\theta} \\, t \\, \\theta \\, t }^{ \\, \\theta \\phantom{\\, t} \\phantom{\\, \\theta} \\phantom{\\, t} } & = & -\\frac{2 \\, m^{2} - m r}{r^{4}} \\\\ \\mathrm{C}\\left(g\\right)_{ \\phantom{\\, \\theta} \\, r \\, r \\, \\theta }^{ \\, \\theta \\phantom{\\, r} \\phantom{\\, r} \\phantom{\\, \\theta} } & = & -\\frac{m}{2 \\, m r^{2} - r^{3}} \\\\ \\mathrm{C}\\left(g\\right)_{ \\phantom{\\, \\theta} \\, r \\, \\theta \\, r }^{ \\, \\theta \\phantom{\\, r} \\phantom{\\, \\theta} \\phantom{\\, r} } & = & \\frac{m}{2 \\, m r^{2} - r^{3}} \\\\ \\mathrm{C}\\left(g\\right)_{ \\phantom{\\, \\theta} \\, \\phi \\, \\theta \\, \\phi }^{ \\, \\theta \\phantom{\\, \\phi} \\phantom{\\, \\theta} \\phantom{\\, \\phi} } & = & \\frac{2 \\, m \\sin\\left(\\theta\\right)^{2}}{r} \\\\ \\mathrm{C}\\left(g\\right)_{ \\phantom{\\, \\theta} \\, \\phi \\, \\phi \\, \\theta }^{ \\, \\theta \\phantom{\\, \\phi} \\phantom{\\, \\phi} \\phantom{\\, \\theta} } & = & -\\frac{2 \\, m \\sin\\left(\\theta\\right)^{2}}{r} \\\\ \\mathrm{C}\\left(g\\right)_{ \\phantom{\\, \\phi} \\, t \\, t \\, \\phi }^{ \\, \\phi \\phantom{\\, t} \\phantom{\\, t} \\phantom{\\, \\phi} } & = & \\frac{2 \\, m^{2} - m r}{r^{4}} \\\\ \\mathrm{C}\\left(g\\right)_{ \\phantom{\\, \\phi} \\, t \\, \\phi \\, t }^{ \\, \\phi \\phantom{\\, t} \\phantom{\\, \\phi} \\phantom{\\, t} } & = & -\\frac{2 \\, m^{2} - m r}{r^{4}} \\\\ \\mathrm{C}\\left(g\\right)_{ \\phantom{\\, \\phi} \\, r \\, r \\, \\phi }^{ \\, \\phi \\phantom{\\, r} \\phantom{\\, r} \\phantom{\\, \\phi} } & = & -\\frac{m}{2 \\, m r^{2} - r^{3}} \\\\ \\mathrm{C}\\left(g\\right)_{ \\phantom{\\, \\phi} \\, r \\, \\phi \\, r }^{ \\, \\phi \\phantom{\\, r} \\phantom{\\, \\phi} \\phantom{\\, r} } & = & \\frac{m}{2 \\, m r^{2} - r^{3}} \\\\ \\mathrm{C}\\left(g\\right)_{ \\phantom{\\, \\phi} \\, \\theta \\, \\theta \\, \\phi }^{ \\, \\phi \\phantom{\\, \\theta} \\phantom{\\, \\theta} \\phantom{\\, \\phi} } & = & -\\frac{2 \\, m}{r} \\\\ \\mathrm{C}\\left(g\\right)_{ \\phantom{\\, \\phi} \\, \\theta \\, \\phi \\, \\theta }^{ \\, \\phi \\phantom{\\, \\theta} \\phantom{\\, \\phi} \\phantom{\\, \\theta} } & = & \\frac{2 \\, m}{r} \\end{array}</script></html>"
      ],
      "text/latex": [
       "$$\\newcommand{\\Bold}[1]{\\mathbf{#1}}\\begin{array}{lcl} \\mathrm{C}\\left(g\\right)_{ \\phantom{\\, t} \\, r \\, t \\, r }^{ \\, t \\phantom{\\, r} \\phantom{\\, t} \\phantom{\\, r} } & = & -\\frac{2 \\, m}{2 \\, m r^{2} - r^{3}} \\\\ \\mathrm{C}\\left(g\\right)_{ \\phantom{\\, t} \\, r \\, r \\, t }^{ \\, t \\phantom{\\, r} \\phantom{\\, r} \\phantom{\\, t} } & = & \\frac{2 \\, m}{2 \\, m r^{2} - r^{3}} \\\\ \\mathrm{C}\\left(g\\right)_{ \\phantom{\\, t} \\, \\theta \\, t \\, \\theta }^{ \\, t \\phantom{\\, \\theta} \\phantom{\\, t} \\phantom{\\, \\theta} } & = & -\\frac{m}{r} \\\\ \\mathrm{C}\\left(g\\right)_{ \\phantom{\\, t} \\, \\theta \\, \\theta \\, t }^{ \\, t \\phantom{\\, \\theta} \\phantom{\\, \\theta} \\phantom{\\, t} } & = & \\frac{m}{r} \\\\ \\mathrm{C}\\left(g\\right)_{ \\phantom{\\, t} \\, \\phi \\, t \\, \\phi }^{ \\, t \\phantom{\\, \\phi} \\phantom{\\, t} \\phantom{\\, \\phi} } & = & -\\frac{m \\sin\\left(\\theta\\right)^{2}}{r} \\\\ \\mathrm{C}\\left(g\\right)_{ \\phantom{\\, t} \\, \\phi \\, \\phi \\, t }^{ \\, t \\phantom{\\, \\phi} \\phantom{\\, \\phi} \\phantom{\\, t} } & = & \\frac{m \\sin\\left(\\theta\\right)^{2}}{r} \\\\ \\mathrm{C}\\left(g\\right)_{ \\phantom{\\, r} \\, t \\, t \\, r }^{ \\, r \\phantom{\\, t} \\phantom{\\, t} \\phantom{\\, r} } & = & -\\frac{2 \\, {\\left(2 \\, m^{2} - m r\\right)}}{r^{4}} \\\\ \\mathrm{C}\\left(g\\right)_{ \\phantom{\\, r} \\, t \\, r \\, t }^{ \\, r \\phantom{\\, t} \\phantom{\\, r} \\phantom{\\, t} } & = & \\frac{2 \\, {\\left(2 \\, m^{2} - m r\\right)}}{r^{4}} \\\\ \\mathrm{C}\\left(g\\right)_{ \\phantom{\\, r} \\, \\theta \\, r \\, \\theta }^{ \\, r \\phantom{\\, \\theta} \\phantom{\\, r} \\phantom{\\, \\theta} } & = & -\\frac{m}{r} \\\\ \\mathrm{C}\\left(g\\right)_{ \\phantom{\\, r} \\, \\theta \\, \\theta \\, r }^{ \\, r \\phantom{\\, \\theta} \\phantom{\\, \\theta} \\phantom{\\, r} } & = & \\frac{m}{r} \\\\ \\mathrm{C}\\left(g\\right)_{ \\phantom{\\, r} \\, \\phi \\, r \\, \\phi }^{ \\, r \\phantom{\\, \\phi} \\phantom{\\, r} \\phantom{\\, \\phi} } & = & -\\frac{m \\sin\\left(\\theta\\right)^{2}}{r} \\\\ \\mathrm{C}\\left(g\\right)_{ \\phantom{\\, r} \\, \\phi \\, \\phi \\, r }^{ \\, r \\phantom{\\, \\phi} \\phantom{\\, \\phi} \\phantom{\\, r} } & = & \\frac{m \\sin\\left(\\theta\\right)^{2}}{r} \\\\ \\mathrm{C}\\left(g\\right)_{ \\phantom{\\, \\theta} \\, t \\, t \\, \\theta }^{ \\, \\theta \\phantom{\\, t} \\phantom{\\, t} \\phantom{\\, \\theta} } & = & \\frac{2 \\, m^{2} - m r}{r^{4}} \\\\ \\mathrm{C}\\left(g\\right)_{ \\phantom{\\, \\theta} \\, t \\, \\theta \\, t }^{ \\, \\theta \\phantom{\\, t} \\phantom{\\, \\theta} \\phantom{\\, t} } & = & -\\frac{2 \\, m^{2} - m r}{r^{4}} \\\\ \\mathrm{C}\\left(g\\right)_{ \\phantom{\\, \\theta} \\, r \\, r \\, \\theta }^{ \\, \\theta \\phantom{\\, r} \\phantom{\\, r} \\phantom{\\, \\theta} } & = & -\\frac{m}{2 \\, m r^{2} - r^{3}} \\\\ \\mathrm{C}\\left(g\\right)_{ \\phantom{\\, \\theta} \\, r \\, \\theta \\, r }^{ \\, \\theta \\phantom{\\, r} \\phantom{\\, \\theta} \\phantom{\\, r} } & = & \\frac{m}{2 \\, m r^{2} - r^{3}} \\\\ \\mathrm{C}\\left(g\\right)_{ \\phantom{\\, \\theta} \\, \\phi \\, \\theta \\, \\phi }^{ \\, \\theta \\phantom{\\, \\phi} \\phantom{\\, \\theta} \\phantom{\\, \\phi} } & = & \\frac{2 \\, m \\sin\\left(\\theta\\right)^{2}}{r} \\\\ \\mathrm{C}\\left(g\\right)_{ \\phantom{\\, \\theta} \\, \\phi \\, \\phi \\, \\theta }^{ \\, \\theta \\phantom{\\, \\phi} \\phantom{\\, \\phi} \\phantom{\\, \\theta} } & = & -\\frac{2 \\, m \\sin\\left(\\theta\\right)^{2}}{r} \\\\ \\mathrm{C}\\left(g\\right)_{ \\phantom{\\, \\phi} \\, t \\, t \\, \\phi }^{ \\, \\phi \\phantom{\\, t} \\phantom{\\, t} \\phantom{\\, \\phi} } & = & \\frac{2 \\, m^{2} - m r}{r^{4}} \\\\ \\mathrm{C}\\left(g\\right)_{ \\phantom{\\, \\phi} \\, t \\, \\phi \\, t }^{ \\, \\phi \\phantom{\\, t} \\phantom{\\, \\phi} \\phantom{\\, t} } & = & -\\frac{2 \\, m^{2} - m r}{r^{4}} \\\\ \\mathrm{C}\\left(g\\right)_{ \\phantom{\\, \\phi} \\, r \\, r \\, \\phi }^{ \\, \\phi \\phantom{\\, r} \\phantom{\\, r} \\phantom{\\, \\phi} } & = & -\\frac{m}{2 \\, m r^{2} - r^{3}} \\\\ \\mathrm{C}\\left(g\\right)_{ \\phantom{\\, \\phi} \\, r \\, \\phi \\, r }^{ \\, \\phi \\phantom{\\, r} \\phantom{\\, \\phi} \\phantom{\\, r} } & = & \\frac{m}{2 \\, m r^{2} - r^{3}} \\\\ \\mathrm{C}\\left(g\\right)_{ \\phantom{\\, \\phi} \\, \\theta \\, \\theta \\, \\phi }^{ \\, \\phi \\phantom{\\, \\theta} \\phantom{\\, \\theta} \\phantom{\\, \\phi} } & = & -\\frac{2 \\, m}{r} \\\\ \\mathrm{C}\\left(g\\right)_{ \\phantom{\\, \\phi} \\, \\theta \\, \\phi \\, \\theta }^{ \\, \\phi \\phantom{\\, \\theta} \\phantom{\\, \\phi} \\phantom{\\, \\theta} } & = & \\frac{2 \\, m}{r} \\end{array}$$"
      ],
      "text/plain": [
       "C(g)^t_r,t,r = -2*m/(2*m*r^2 - r^3) \n",
       "C(g)^t_r,r,t = 2*m/(2*m*r^2 - r^3) \n",
       "C(g)^t_theta,t,theta = -m/r \n",
       "C(g)^t_theta,theta,t = m/r \n",
       "C(g)^t_phi,t,phi = -m*sin(theta)^2/r \n",
       "C(g)^t_phi,phi,t = m*sin(theta)^2/r \n",
       "C(g)^r_t,t,r = -2*(2*m^2 - m*r)/r^4 \n",
       "C(g)^r_t,r,t = 2*(2*m^2 - m*r)/r^4 \n",
       "C(g)^r_theta,r,theta = -m/r \n",
       "C(g)^r_theta,theta,r = m/r \n",
       "C(g)^r_phi,r,phi = -m*sin(theta)^2/r \n",
       "C(g)^r_phi,phi,r = m*sin(theta)^2/r \n",
       "C(g)^theta_t,t,theta = (2*m^2 - m*r)/r^4 \n",
       "C(g)^theta_t,theta,t = -(2*m^2 - m*r)/r^4 \n",
       "C(g)^theta_r,r,theta = -m/(2*m*r^2 - r^3) \n",
       "C(g)^theta_r,theta,r = m/(2*m*r^2 - r^3) \n",
       "C(g)^theta_phi,theta,phi = 2*m*sin(theta)^2/r \n",
       "C(g)^theta_phi,phi,theta = -2*m*sin(theta)^2/r \n",
       "C(g)^phi_t,t,phi = (2*m^2 - m*r)/r^4 \n",
       "C(g)^phi_t,phi,t = -(2*m^2 - m*r)/r^4 \n",
       "C(g)^phi_r,r,phi = -m/(2*m*r^2 - r^3) \n",
       "C(g)^phi_r,phi,r = m/(2*m*r^2 - r^3) \n",
       "C(g)^phi_theta,theta,phi = -2*m/r \n",
       "C(g)^phi_theta,phi,theta = 2*m/r "
      ]
     },
     "metadata": {},
     "output_type": "display_data"
    }
   ],
   "source": [
    "# Weyl tensor (non-zero in vacuum)\n",
    "print(\"\\nWeyl tensor (non-zero components):\")\n",
    "C = g.weyl()\n",
    "show(C.display_comp(only_nonzero=True))"
   ]
  },
  {
   "cell_type": "code",
   "execution_count": 15,
   "id": "45161cc7",
   "metadata": {},
   "outputs": [
    {
     "name": "stdout",
     "output_type": "stream",
     "text": [
      "\n",
      "Einstein tensor:\n"
     ]
    },
    {
     "data": {
      "text/html": [
       "<html><script type=\"math/tex; mode=display\">\\newcommand{\\Bold}[1]{\\mathbf{#1}}\\mathrm{Ric}\\left(g\\right)-\\mbox{unnamed metric} = 0</script></html>"
      ],
      "text/latex": [
       "$$\\newcommand{\\Bold}[1]{\\mathbf{#1}}\\mathrm{Ric}\\left(g\\right)-\\mbox{unnamed metric} = 0$$"
      ],
      "text/plain": [
       "Ric(g)-unnamed metric = 0"
      ]
     },
     "metadata": {},
     "output_type": "display_data"
    }
   ],
   "source": [
    "# Einstein tensor \n",
    "print(\"\\nEinstein tensor:\")\n",
    "G = Ric - (1/2)*R_scalar*g\n",
    "show(G.display())"
   ]
  },
  {
   "cell_type": "code",
   "execution_count": 16,
   "id": "34045d4e",
   "metadata": {},
   "outputs": [],
   "source": [
    "# ===== Special Invariants ====="
   ]
  },
  {
   "cell_type": "code",
   "execution_count": 17,
   "id": "8baf369a",
   "metadata": {},
   "outputs": [
    {
     "name": "stdout",
     "output_type": "stream",
     "text": [
      "\n",
      "Kretschmann scalar (R^abcd R_abcd):\n"
     ]
    },
    {
     "data": {
      "text/html": [
       "<html><script type=\"math/tex; mode=display\">\\newcommand{\\Bold}[1]{\\mathbf{#1}}\\frac{48 \\, m^{2}}{r^{6}}</script></html>"
      ],
      "text/latex": [
       "$$\\newcommand{\\Bold}[1]{\\mathbf{#1}}\\frac{48 \\, m^{2}}{r^{6}}$$"
      ],
      "text/plain": [
       "48*m^2/r^6"
      ]
     },
     "metadata": {},
     "output_type": "display_data"
    }
   ],
   "source": [
    "# Kretschmann scalar \n",
    "print(\"\\nKretschmann scalar (R^abcd R_abcd):\")\n",
    "K = R.down(g)['_{abcd}']*R.up(g)['^{abcd}']\n",
    "show(K.expr().simplify_full())"
   ]
  },
  {
   "cell_type": "code",
   "execution_count": null,
   "id": "3034d1f9",
   "metadata": {},
   "outputs": [],
   "source": []
  }
 ],
 "metadata": {
  "kernelspec": {
   "display_name": "SageMath 9.5",
   "language": "sage",
   "name": "sagemath"
  },
  "language_info": {
   "codemirror_mode": {
    "name": "ipython",
    "version": 3
   },
   "file_extension": ".py",
   "mimetype": "text/x-python",
   "name": "python",
   "nbconvert_exporter": "python",
   "pygments_lexer": "ipython3",
   "version": "3.10.12"
  }
 },
 "nbformat": 4,
 "nbformat_minor": 5
}
