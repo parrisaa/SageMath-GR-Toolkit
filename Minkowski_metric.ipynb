{
 "cells": [
  {
   "cell_type": "code",
   "execution_count": 40,
   "id": "b04a45eb",
   "metadata": {},
   "outputs": [],
   "source": [
    "# Load differential geometry package\n",
    "from sage.manifolds.operators import *\n",
    "# Load differential geometry package\n",
    "from sage.manifolds.operators import *"
   ]
  },
  {
   "cell_type": "code",
   "execution_count": 15,
   "id": "76e1845b",
   "metadata": {},
   "outputs": [],
   "source": [
    "# Define the 4D manifold\n",
    "M = Manifold(4, 'M', structure='Lorentzian')"
   ]
  },
  {
   "cell_type": "code",
   "execution_count": 16,
   "id": "1b3ac013",
   "metadata": {},
   "outputs": [],
   "source": [
    "# Define coordinates: (t, r, theta, phi)\n",
    "X.<t,r,theta,phi> = M.chart(r't r:(0,+oo) theta:(0,pi) phi:(0,2*pi)')"
   ]
  },
  {
   "cell_type": "code",
   "execution_count": 49,
   "id": "00bd6538",
   "metadata": {},
   "outputs": [],
   "source": [
    "# Define the Minkowski metric in spherical coordinates\n",
    "g = M.lorentzian_metric('g')"
   ]
  },
  {
   "cell_type": "code",
   "execution_count": 18,
   "id": "22e18674",
   "metadata": {},
   "outputs": [],
   "source": [
    "# Set the components of the metric\n",
    "g[0,0] = -1\n",
    "g[1,1] = 1\n",
    "g[2,2] = r^2\n",
    "g[3,3] = r^2 * sin(theta)^2"
   ]
  },
  {
   "cell_type": "code",
   "execution_count": 20,
   "id": "00a64bec",
   "metadata": {
    "scrolled": true
   },
   "outputs": [
    {
     "name": "stdout",
     "output_type": "stream",
     "text": [
      "[              -1                0                0                0]\n",
      "[               0                1                0                0]\n",
      "[               0                0              r^2                0]\n",
      "[               0                0                0 r^2*sin(theta)^2]\n"
     ]
    }
   ],
   "source": [
    "print(g[:])"
   ]
  },
  {
   "cell_type": "code",
   "execution_count": 42,
   "id": "58c41de6",
   "metadata": {},
   "outputs": [
    {
     "name": "stdout",
     "output_type": "stream",
     "text": [
      "\n",
      "Riemann curvature tensor components:\n"
     ]
    },
    {
     "data": {
      "text/plain": [
       "Riem(g) = 0"
      ]
     },
     "execution_count": 42,
     "metadata": {},
     "output_type": "execute_result"
    }
   ],
   "source": [
    "# Compute the Riemann curvature tensor\n",
    "riemann = g.riemann()\n",
    "print(\"\\nRiemann curvature tensor components:\")\n",
    "riemann.display()"
   ]
  },
  {
   "cell_type": "code",
   "execution_count": 44,
   "id": "9e523837",
   "metadata": {},
   "outputs": [
    {
     "name": "stdout",
     "output_type": "stream",
     "text": [
      "\n",
      "Ricci tensor components:\n",
      "[0 0 0 0]\n",
      "[0 0 0 0]\n",
      "[0 0 0 0]\n",
      "[0 0 0 0]\n"
     ]
    }
   ],
   "source": [
    "# Compute the Ricci tensor (should also be zero)\n",
    "ricci = g.ricci()\n",
    "print(\"\\nRicci tensor components:\")\n",
    "print(ricci[:])  # Should be a 4x4 zero matrix"
   ]
  },
  {
   "cell_type": "code",
   "execution_count": 45,
   "id": "b8b6443c",
   "metadata": {},
   "outputs": [
    {
     "name": "stdout",
     "output_type": "stream",
     "text": [
      "\n",
      "Ricci scalar (curvature scalar):\n",
      "0\n"
     ]
    }
   ],
   "source": [
    "# Compute the Ricci scalar (should also be zero)\n",
    "ricci_scalar = g.ricci_scalar()\n",
    "print(\"\\nRicci scalar (curvature scalar):\")\n",
    "print(ricci_scalar.expr())"
   ]
  },
  {
   "cell_type": "code",
   "execution_count": 46,
   "id": "4b517cb8",
   "metadata": {},
   "outputs": [
    {
     "name": "stdout",
     "output_type": "stream",
     "text": [
      "\n",
      "Weyl tensor components (all should be zero):\n"
     ]
    },
    {
     "data": {
      "text/plain": [
       "C(g) = 0"
      ]
     },
     "execution_count": 46,
     "metadata": {},
     "output_type": "execute_result"
    }
   ],
   "source": [
    "# Compute the Weyl tensor (should be zero for Minkowski space)\n",
    "weyl = g.weyl()\n",
    "print(\"\\nWeyl tensor components (all should be zero):\")\n",
    "weyl.display() "
   ]
  },
  {
   "cell_type": "code",
   "execution_count": 48,
   "id": "730f9fde",
   "metadata": {},
   "outputs": [
    {
     "name": "stdout",
     "output_type": "stream",
     "text": [
      "\n",
      "Einstein tensor components:\n",
      "[0 0 0 0]\n",
      "[0 0 0 0]\n",
      "[0 0 0 0]\n",
      "[0 0 0 0]\n"
     ]
    }
   ],
   "source": [
    "# Compute the Einstein tensor manually: G_{μν} = R_{μν} - (1/2) R g_{μν}\n",
    "einstein = ricci - (1/2) * ricci_scalar * g\n",
    "print(\"\\nEinstein tensor components:\")\n",
    "print(einstein[:])"
   ]
  },
  {
   "cell_type": "code",
   "execution_count": null,
   "id": "4638c02e",
   "metadata": {},
   "outputs": [],
   "source": []
  }
 ],
 "metadata": {
  "kernelspec": {
   "display_name": "SageMath 9.5",
   "language": "sage",
   "name": "sagemath"
  },
  "language_info": {
   "codemirror_mode": {
    "name": "ipython",
    "version": 3
   },
   "file_extension": ".py",
   "mimetype": "text/x-python",
   "name": "python",
   "nbconvert_exporter": "python",
   "pygments_lexer": "ipython3",
   "version": "3.10.12"
  }
 },
 "nbformat": 4,
 "nbformat_minor": 5
}
